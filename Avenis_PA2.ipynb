{
 "cells": [
  {
   "cell_type": "markdown",
   "id": "49803b51-27d7-4504-ad0c-053ee8f5ba03",
   "metadata": {},
   "source": [
    "NORMALIZATION PROBLEM: Normalization is one of the most basic preprocessing techniques in\n",
    "data analytics. This involves centering and scaling process. Centering means subtracting the data from the\n",
    "mean and scaling means dividing with its standard deviation.\n",
    "\n",
    "In Python, element-wise mean and element-wise standard deviation can be obtained by using .mean() and .std() calls\n",
    "\n",
    "In this problem, create a random 5 x 5 ndarray and store it to variable X. Normalize X. Save your normalized\n",
    "ndarray as X_normalized.npy"
   ]
  },
  {
   "cell_type": "code",
   "execution_count": 33,
   "id": "fe077590-4ea4-4a8f-b143-7546a515f22d",
   "metadata": {},
   "outputs": [],
   "source": [
    "import numpy as np"
   ]
  },
  {
   "cell_type": "code",
   "execution_count": 34,
   "id": "2fcd6eb2-87f4-4ebe-ad92-7a870371e532",
   "metadata": {},
   "outputs": [
    {
     "name": "stdout",
     "output_type": "stream",
     "text": [
      " \n",
      "\n",
      "ndarray:\n",
      "[[0.98396483 0.34864518 0.73188146 0.44246124 0.55856439]\n",
      " [0.72594528 0.41849824 0.72361756 0.32968667 0.73836956]\n",
      " [0.55638503 0.26482001 0.94766755 0.0965986  0.98305422]\n",
      " [0.2327619  0.03961103 0.2304002  0.34543696 0.58931856]\n",
      " [0.94524855 0.44362134 0.37662166 0.95086742 0.84926835]]\n",
      "\n",
      "mean: 0.5541326327699144\n",
      "\n",
      "standard deviation: 0.28444460594022747\n",
      "\n",
      "normalized:\n",
      "[[ 1.51112796 -0.7224164   0.62489787 -0.39259451  0.0155804 ]\n",
      " [ 0.60402849 -0.47683938  0.59584511 -0.78906739  0.64770758]\n",
      " [ 0.00791859 -1.01711411  1.38352042 -1.60851718  1.5079266 ]\n",
      " [-1.12981834 -1.80886399 -1.13812118 -0.7336953   0.12370045]\n",
      " [ 1.37501612 -0.38851605 -0.62406164  1.39476995  1.0375859 ]]\n",
      "\n"
     ]
    }
   ],
   "source": [
    "# generate array and takes mean and standard deviation\n",
    "X = np.random.random((5,5))\n",
    "mean = X.mean()\n",
    "sd = X.std()\n",
    "\n",
    "# Normalization\n",
    "normalized = (X - mean) / sd\n",
    "\n",
    "# print outputs\n",
    "print(f''' \n",
    "\n",
    "ndarray:\n",
    "{X}\n",
    "\n",
    "mean: {mean}\n",
    "\n",
    "standard deviation: {sd}\n",
    "\n",
    "normalized:\n",
    "{normalized}\n",
    "''')\n",
    "\n",
    "# save outputs\n",
    "np.save('X_normalized.npy', normalized)"
   ]
  },
  {
   "cell_type": "markdown",
   "id": "843e0ca7-0530-4cf0-9b72-e937cba409cd",
   "metadata": {},
   "source": [
    "DIVISIBLE BY 3 PROBLEM: \n",
    "Create the following 10 x 10 ndarray.\n",
    "\n",
    "which are the squares of the first 100 positive integers.\n",
    "From this ndarray, determine all the elements that are divisible by 3. Save the result as div_by_3.npy\n"
   ]
  },
  {
   "cell_type": "code",
   "execution_count": 35,
   "id": "18a9b2fa-56f5-4012-9dbb-e4271f8f2e54",
   "metadata": {},
   "outputs": [
    {
     "name": "stdout",
     "output_type": "stream",
     "text": [
      "\n",
      "\n",
      "array:\n",
      "[[    1     4     9    16    25    36    49    64    81   100]\n",
      " [  121   144   169   196   225   256   289   324   361   400]\n",
      " [  441   484   529   576   625   676   729   784   841   900]\n",
      " [  961  1024  1089  1156  1225  1296  1369  1444  1521  1600]\n",
      " [ 1681  1764  1849  1936  2025  2116  2209  2304  2401  2500]\n",
      " [ 2601  2704  2809  2916  3025  3136  3249  3364  3481  3600]\n",
      " [ 3721  3844  3969  4096  4225  4356  4489  4624  4761  4900]\n",
      " [ 5041  5184  5329  5476  5625  5776  5929  6084  6241  6400]\n",
      " [ 6561  6724  6889  7056  7225  7396  7569  7744  7921  8100]\n",
      " [ 8281  8464  8649  8836  9025  9216  9409  9604  9801 10000]]\n",
      "\n",
      "elements divisible by 3:\n",
      "[9, 36, 81, 144, 225, 324, 441, 576, 729, 900, 1089, 1296, 1521, 1764, 2025, 2304, 2601, 2916, 3249, 3600, 3969, 4356, 4761, 5184, 5625, 6084, 6561, 7056, 7569, 8100, 8649, 9216, 9801]\n",
      "\n"
     ]
    }
   ],
   "source": [
    "\n",
    "# create 10x10 array\n",
    "array = np.arange(1,101,1)**2\n",
    "array = array.reshape(10,10)\n",
    "\n",
    "# determine elements divisible by 3\n",
    "div_by_3 = []\n",
    "for row in array:\n",
    "    for number in row:\n",
    "        if number % 3 == 0:\n",
    "            div_by_3.append(int(number))\n",
    "        else:\n",
    "            pass\n",
    "\n",
    "# print outputs\n",
    "print(f'''\n",
    "\n",
    "array:\n",
    "{array}\n",
    "\n",
    "elements divisible by 3:\n",
    "{div_by_3}\n",
    "''')\n",
    "\n",
    "# save outputs\n",
    "np.save('div_by_3.npy', div_by_3)"
   ]
  },
  {
   "cell_type": "code",
   "execution_count": null,
   "id": "072163c1-6557-4686-85f4-885a4a8c5c7e",
   "metadata": {},
   "outputs": [],
   "source": []
  }
 ],
 "metadata": {
  "kernelspec": {
   "display_name": "Python [conda env:base] *",
   "language": "python",
   "name": "conda-base-py"
  },
  "language_info": {
   "codemirror_mode": {
    "name": "ipython",
    "version": 3
   },
   "file_extension": ".py",
   "mimetype": "text/x-python",
   "name": "python",
   "nbconvert_exporter": "python",
   "pygments_lexer": "ipython3",
   "version": "3.13.5"
  }
 },
 "nbformat": 4,
 "nbformat_minor": 5
}
