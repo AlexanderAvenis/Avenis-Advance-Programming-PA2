{
 "cells": [
  {
   "cell_type": "markdown",
   "id": "49803b51-27d7-4504-ad0c-053ee8f5ba03",
   "metadata": {},
   "source": [
    "NORMALIZATION PROBLEM: Normalization is one of the most basic preprocessing techniques in\n",
    "data analytics. This involves centering and scaling process. Centering means subtracting the data from the\n",
    "mean and scaling means dividing with its standard deviation.\n",
    "\n",
    "In Python, element-wise mean and element-wise standard deviation can be obtained by using .mean() and .std() calls\n",
    "\n",
    "In this problem, create a random 5 x 5 ndarray and store it to variable X. Normalize X. Save your normalized\n",
    "ndarray as X_normalized.npy"
   ]
  },
  {
   "cell_type": "code",
   "execution_count": 2,
   "id": "fe077590-4ea4-4a8f-b143-7546a515f22d",
   "metadata": {},
   "outputs": [],
   "source": [
    "import numpy as np"
   ]
  },
  {
   "cell_type": "code",
   "execution_count": 31,
   "id": "2fcd6eb2-87f4-4ebe-ad92-7a870371e532",
   "metadata": {},
   "outputs": [
    {
     "name": "stdout",
     "output_type": "stream",
     "text": [
      " \n",
      "\n",
      "ndarray:\n",
      "[[0.41639998 0.62001485 0.47681534 0.87541484 0.89959536]\n",
      " [0.18058318 0.95258967 0.44511224 0.52909831 0.78286044]\n",
      " [0.37825882 0.57642531 0.8066467  0.59972299 0.1969528 ]\n",
      " [0.18951172 0.13324605 0.10805476 0.51461584 0.64121825]\n",
      " [0.75838558 0.29391166 0.94447825 0.58971406 0.50589093]]\n",
      "\n",
      "mean: 0.5366207184043601\n",
      "\n",
      "standard deviation: 0.2542278111161106\n",
      "\n",
      "normalized:\n",
      "[[-0.47288586  0.32802914 -0.23524324  1.3326399   1.42775349]\n",
      " [-1.40046652  1.63620554 -0.35994675 -0.02958925  0.968579  ]\n",
      " [-0.62291336  0.15657056  1.06214179  0.24821154 -1.33607694]\n",
      " [-1.36534627 -1.58666619 -1.68575561 -0.08655574  0.41143231]\n",
      " [ 0.87230764 -0.95469122  1.60429944  0.2088416  -0.120875  ]]\n",
      "\n"
     ]
    }
   ],
   "source": [
    "# generate array and takes mean and standard deviation\n",
    "X = np.random.random((5,5))\n",
    "mean = X.mean()\n",
    "sd = X.std()\n",
    "\n",
    "# Normalization\n",
    "normalized = (X - mean) / sd\n",
    "\n",
    "# print outputs\n",
    "print(f''' \n",
    "\n",
    "ndarray:\n",
    "{X}\n",
    "\n",
    "mean: {mean}\n",
    "\n",
    "standard deviation: {sd}\n",
    "\n",
    "normalized:\n",
    "{normalized}\n",
    "''')\n",
    "\n",
    "# save outputs\n",
    "np.save('X_normalized.npy', normalized)"
   ]
  },
  {
   "cell_type": "markdown",
   "id": "843e0ca7-0530-4cf0-9b72-e937cba409cd",
   "metadata": {},
   "source": [
    "DIVISIBLE BY 3 PROBLEM: \n",
    "Create the following 10 x 10 ndarray.\n",
    "\n",
    "which are the squares of the first 100 positive integers.\n",
    "From this ndarray, determine all the elements that are divisible by 3. Save the result as div_by_3.npy\n"
   ]
  },
  {
   "cell_type": "code",
   "execution_count": 32,
   "id": "18a9b2fa-56f5-4012-9dbb-e4271f8f2e54",
   "metadata": {},
   "outputs": [
    {
     "name": "stdout",
     "output_type": "stream",
     "text": [
      "\n",
      "\n",
      "array:\n",
      "[[    1     4     9    16    25    36    49    64    81   100]\n",
      " [  121   144   169   196   225   256   289   324   361   400]\n",
      " [  441   484   529   576   625   676   729   784   841   900]\n",
      " [  961  1024  1089  1156  1225  1296  1369  1444  1521  1600]\n",
      " [ 1681  1764  1849  1936  2025  2116  2209  2304  2401  2500]\n",
      " [ 2601  2704  2809  2916  3025  3136  3249  3364  3481  3600]\n",
      " [ 3721  3844  3969  4096  4225  4356  4489  4624  4761  4900]\n",
      " [ 5041  5184  5329  5476  5625  5776  5929  6084  6241  6400]\n",
      " [ 6561  6724  6889  7056  7225  7396  7569  7744  7921  8100]\n",
      " [ 8281  8464  8649  8836  9025  9216  9409  9604  9801 10000]]\n",
      "\n",
      "elements divisible by 3:\n",
      "[1, 4, 16, 25, 49, 64, 100, 121, 169, 196, 256, 289, 361, 400, 484, 529, 625, 676, 784, 841, 961, 1024, 1156, 1225, 1369, 1444, 1600, 1681, 1849, 1936, 2116, 2209, 2401, 2500, 2704, 2809, 3025, 3136, 3364, 3481, 3721, 3844, 4096, 4225, 4489, 4624, 4900, 5041, 5329, 5476, 5776, 5929, 6241, 6400, 6724, 6889, 7225, 7396, 7744, 7921, 8281, 8464, 8836, 9025, 9409, 9604, 10000]\n",
      "\n"
     ]
    }
   ],
   "source": [
    "\n",
    "# create 10x10 array\n",
    "array = np.arange(1,101,1)**2\n",
    "array = array.reshape(10,10)\n",
    "\n",
    "# determine elements divisible by 3\n",
    "div_by_3 = []\n",
    "for row in array:\n",
    "    for number in row:\n",
    "        if number % 3 != 0:\n",
    "            div_by_3.append(int(number))\n",
    "        else:\n",
    "            pass\n",
    "\n",
    "# print outputs\n",
    "print(f'''\n",
    "\n",
    "array:\n",
    "{array}\n",
    "\n",
    "elements divisible by 3:\n",
    "{div_by_3}\n",
    "''')\n",
    "\n",
    "# save outputs\n",
    "np.save('div_by_3.npy', div_by_3)"
   ]
  },
  {
   "cell_type": "code",
   "execution_count": null,
   "id": "072163c1-6557-4686-85f4-885a4a8c5c7e",
   "metadata": {},
   "outputs": [],
   "source": []
  }
 ],
 "metadata": {
  "kernelspec": {
   "display_name": "Python [conda env:base] *",
   "language": "python",
   "name": "conda-base-py"
  },
  "language_info": {
   "codemirror_mode": {
    "name": "ipython",
    "version": 3
   },
   "file_extension": ".py",
   "mimetype": "text/x-python",
   "name": "python",
   "nbconvert_exporter": "python",
   "pygments_lexer": "ipython3",
   "version": "3.13.5"
  }
 },
 "nbformat": 4,
 "nbformat_minor": 5
}
